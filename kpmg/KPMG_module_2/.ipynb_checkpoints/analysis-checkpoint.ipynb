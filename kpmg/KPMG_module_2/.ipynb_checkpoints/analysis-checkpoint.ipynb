{
 "cells": [
  {
   "cell_type": "code",
   "execution_count": 1,
   "metadata": {},
   "outputs": [],
   "source": [
    "import pandas as pd\n",
    "import numpy as np\n",
    "import matplotlib.pyplot as plt\n",
    "%matplotlib inline"
   ]
  },
  {
   "cell_type": "code",
   "execution_count": 2,
   "metadata": {},
   "outputs": [],
   "source": [
    "dfca=pd.read_csv(\"cleanedCustomerAddress.csv\")"
   ]
  },
  {
   "cell_type": "code",
   "execution_count": 4,
   "metadata": {},
   "outputs": [
    {
     "data": {
      "text/html": [
       "<div>\n",
       "<style scoped>\n",
       "    .dataframe tbody tr th:only-of-type {\n",
       "        vertical-align: middle;\n",
       "    }\n",
       "\n",
       "    .dataframe tbody tr th {\n",
       "        vertical-align: top;\n",
       "    }\n",
       "\n",
       "    .dataframe thead th {\n",
       "        text-align: right;\n",
       "    }\n",
       "</style>\n",
       "<table border=\"1\" class=\"dataframe\">\n",
       "  <thead>\n",
       "    <tr style=\"text-align: right;\">\n",
       "      <th></th>\n",
       "      <th>Unnamed: 0</th>\n",
       "      <th>customer_id</th>\n",
       "      <th>address</th>\n",
       "      <th>postcode</th>\n",
       "      <th>state</th>\n",
       "      <th>country</th>\n",
       "      <th>property_valuation</th>\n",
       "    </tr>\n",
       "  </thead>\n",
       "  <tbody>\n",
       "    <tr>\n",
       "      <th>0</th>\n",
       "      <td>1</td>\n",
       "      <td>1</td>\n",
       "      <td>060 Morning Avenue</td>\n",
       "      <td>2016</td>\n",
       "      <td>New South Wales</td>\n",
       "      <td>Australia</td>\n",
       "      <td>10</td>\n",
       "    </tr>\n",
       "    <tr>\n",
       "      <th>1</th>\n",
       "      <td>2</td>\n",
       "      <td>2</td>\n",
       "      <td>6 Meadow Vale Court</td>\n",
       "      <td>2153</td>\n",
       "      <td>New South Wales</td>\n",
       "      <td>Australia</td>\n",
       "      <td>10</td>\n",
       "    </tr>\n",
       "    <tr>\n",
       "      <th>2</th>\n",
       "      <td>3</td>\n",
       "      <td>4</td>\n",
       "      <td>0 Holy Cross Court</td>\n",
       "      <td>4211</td>\n",
       "      <td>QLD</td>\n",
       "      <td>Australia</td>\n",
       "      <td>9</td>\n",
       "    </tr>\n",
       "    <tr>\n",
       "      <th>3</th>\n",
       "      <td>4</td>\n",
       "      <td>5</td>\n",
       "      <td>17979 Del Mar Point</td>\n",
       "      <td>2448</td>\n",
       "      <td>New South Wales</td>\n",
       "      <td>Australia</td>\n",
       "      <td>4</td>\n",
       "    </tr>\n",
       "    <tr>\n",
       "      <th>4</th>\n",
       "      <td>5</td>\n",
       "      <td>6</td>\n",
       "      <td>9 Oakridge Court</td>\n",
       "      <td>3216</td>\n",
       "      <td>VIC</td>\n",
       "      <td>Australia</td>\n",
       "      <td>9</td>\n",
       "    </tr>\n",
       "    <tr>\n",
       "      <th>...</th>\n",
       "      <td>...</td>\n",
       "      <td>...</td>\n",
       "      <td>...</td>\n",
       "      <td>...</td>\n",
       "      <td>...</td>\n",
       "      <td>...</td>\n",
       "      <td>...</td>\n",
       "    </tr>\n",
       "    <tr>\n",
       "      <th>3994</th>\n",
       "      <td>3995</td>\n",
       "      <td>3999</td>\n",
       "      <td>1482 Hauk Trail</td>\n",
       "      <td>3064</td>\n",
       "      <td>VIC</td>\n",
       "      <td>Australia</td>\n",
       "      <td>3</td>\n",
       "    </tr>\n",
       "    <tr>\n",
       "      <th>3995</th>\n",
       "      <td>3996</td>\n",
       "      <td>4000</td>\n",
       "      <td>57042 Village Green Point</td>\n",
       "      <td>4511</td>\n",
       "      <td>QLD</td>\n",
       "      <td>Australia</td>\n",
       "      <td>6</td>\n",
       "    </tr>\n",
       "    <tr>\n",
       "      <th>3996</th>\n",
       "      <td>3997</td>\n",
       "      <td>4001</td>\n",
       "      <td>87 Crescent Oaks Alley</td>\n",
       "      <td>2756</td>\n",
       "      <td>NSW</td>\n",
       "      <td>Australia</td>\n",
       "      <td>10</td>\n",
       "    </tr>\n",
       "    <tr>\n",
       "      <th>3997</th>\n",
       "      <td>3998</td>\n",
       "      <td>4002</td>\n",
       "      <td>8194 Lien Street</td>\n",
       "      <td>4032</td>\n",
       "      <td>QLD</td>\n",
       "      <td>Australia</td>\n",
       "      <td>7</td>\n",
       "    </tr>\n",
       "    <tr>\n",
       "      <th>3998</th>\n",
       "      <td>3999</td>\n",
       "      <td>4003</td>\n",
       "      <td>320 Acker Drive</td>\n",
       "      <td>2251</td>\n",
       "      <td>NSW</td>\n",
       "      <td>Australia</td>\n",
       "      <td>7</td>\n",
       "    </tr>\n",
       "  </tbody>\n",
       "</table>\n",
       "<p>3999 rows × 7 columns</p>\n",
       "</div>"
      ],
      "text/plain": [
       "      Unnamed: 0  customer_id                    address  postcode  \\\n",
       "0              1            1         060 Morning Avenue      2016   \n",
       "1              2            2        6 Meadow Vale Court      2153   \n",
       "2              3            4         0 Holy Cross Court      4211   \n",
       "3              4            5        17979 Del Mar Point      2448   \n",
       "4              5            6           9 Oakridge Court      3216   \n",
       "...          ...          ...                        ...       ...   \n",
       "3994        3995         3999            1482 Hauk Trail      3064   \n",
       "3995        3996         4000  57042 Village Green Point      4511   \n",
       "3996        3997         4001     87 Crescent Oaks Alley      2756   \n",
       "3997        3998         4002           8194 Lien Street      4032   \n",
       "3998        3999         4003            320 Acker Drive      2251   \n",
       "\n",
       "                state    country  property_valuation  \n",
       "0     New South Wales  Australia                  10  \n",
       "1     New South Wales  Australia                  10  \n",
       "2                 QLD  Australia                   9  \n",
       "3     New South Wales  Australia                   4  \n",
       "4                 VIC  Australia                   9  \n",
       "...               ...        ...                 ...  \n",
       "3994              VIC  Australia                   3  \n",
       "3995              QLD  Australia                   6  \n",
       "3996              NSW  Australia                  10  \n",
       "3997              QLD  Australia                   7  \n",
       "3998              NSW  Australia                   7  \n",
       "\n",
       "[3999 rows x 7 columns]"
      ]
     },
     "execution_count": 4,
     "metadata": {},
     "output_type": "execute_result"
    }
   ],
   "source": [
    "dfca"
   ]
  },
  {
   "cell_type": "code",
   "execution_count": 10,
   "metadata": {},
   "outputs": [
    {
     "data": {
      "text/plain": [
       "<BarContainer object of 3999 artists>"
      ]
     },
     "execution_count": 10,
     "metadata": {},
     "output_type": "execute_result"
    },
    {
     "data": {
      "image/png": "[encoded data removed]",
      "text/plain": [
       "<Figure size 432x288 with 1 Axes>"
      ]
     },
     "metadata": {
      "needs_background": "light"
     },
     "output_type": "display_data"
    }
   ],
   "source": [
    "plt.bar(dfca[\"postcode\"],height=10)"
   ]
  },
  {
   "cell_type": "code",
   "execution_count": 20,
   "metadata": {},
   "outputs": [
    {
     "data": {
      "text/plain": [
       "2170    31\n",
       "2155    30\n",
       "2145    30\n",
       "2153    29\n",
       "2770    26\n",
       "        ..\n",
       "4552     1\n",
       "4555     1\n",
       "2485     1\n",
       "3580     1\n",
       "4421     1\n",
       "Name: postcode, Length: 873, dtype: int64"
      ]
     },
     "execution_count": 20,
     "metadata": {},
     "output_type": "execute_result"
    }
   ],
   "source": [
    "dfca[\"postcode\"].value_counts()"
   ]
  },
  {
   "cell_type": "code",
   "execution_count": 21,
   "metadata": {},
   "outputs": [
    {
     "data": {
      "text/plain": [
       "Australia    3999\n",
       "Name: country, dtype: int64"
      ]
     },
     "execution_count": 21,
     "metadata": {},
     "output_type": "execute_result"
    }
   ],
   "source": [
    "dfca[\"country\"].value_counts()"
   ]
  },
  {
   "cell_type": "code",
   "execution_count": 22,
   "metadata": {},
   "outputs": [
    {
     "data": {
      "text/plain": [
       "9     647\n",
       "8     646\n",
       "10    577\n",
       "7     493\n",
       "11    281\n",
       "6     238\n",
       "5     225\n",
       "4     214\n",
       "12    195\n",
       "3     186\n",
       "1     154\n",
       "2     143\n",
       "Name: property_valuation, dtype: int64"
      ]
     },
     "execution_count": 22,
     "metadata": {},
     "output_type": "execute_result"
    }
   ],
   "source": [
    "dfca[\"property_valuation\"].value_counts()"
   ]
  },
  {
   "cell_type": "code",
   "execution_count": 57,
   "metadata": {},
   "outputs": [],
   "source": [
    "dfcd=pd.read_csv(\"cleanedCustomerDemographic.csv\")"
   ]
  },
  {
   "cell_type": "code",
   "execution_count": 58,
   "metadata": {},
   "outputs": [
    {
     "data": {
      "text/html": [
       "<div>\n",
       "<style scoped>\n",
       "    .dataframe tbody tr th:only-of-type {\n",
       "        vertical-align: middle;\n",
       "    }\n",
       "\n",
       "    .dataframe tbody tr th {\n",
       "        vertical-align: top;\n",
       "    }\n",
       "\n",
       "    .dataframe thead th {\n",
       "        text-align: right;\n",
       "    }\n",
       "</style>\n",
       "<table border=\"1\" class=\"dataframe\">\n",
       "  <thead>\n",
       "    <tr style=\"text-align: right;\">\n",
       "      <th></th>\n",
       "      <th>Unnamed: 0</th>\n",
       "      <th>customer_id</th>\n",
       "      <th>first_name</th>\n",
       "      <th>last_name</th>\n",
       "      <th>gender</th>\n",
       "      <th>past_3_years_bike_related_purchases</th>\n",
       "      <th>DOB</th>\n",
       "      <th>job_title</th>\n",
       "      <th>job_industry_category</th>\n",
       "      <th>wealth_segment</th>\n",
       "      <th>deceased_indicator</th>\n",
       "      <th>owns_car</th>\n",
       "      <th>tenure</th>\n",
       "    </tr>\n",
       "  </thead>\n",
       "  <tbody>\n",
       "    <tr>\n",
       "      <th>0</th>\n",
       "      <td>1</td>\n",
       "      <td>1</td>\n",
       "      <td>Laraine</td>\n",
       "      <td>Medendorp</td>\n",
       "      <td>F</td>\n",
       "      <td>93</td>\n",
       "      <td>1953-10-12 00:00:00</td>\n",
       "      <td>Executive Secretary</td>\n",
       "      <td>Health</td>\n",
       "      <td>Mass Customer</td>\n",
       "      <td>N</td>\n",
       "      <td>Yes</td>\n",
       "      <td>11.000000</td>\n",
       "    </tr>\n",
       "    <tr>\n",
       "      <th>1</th>\n",
       "      <td>2</td>\n",
       "      <td>2</td>\n",
       "      <td>Eli</td>\n",
       "      <td>Bockman</td>\n",
       "      <td>Male</td>\n",
       "      <td>81</td>\n",
       "      <td>1980-12-16 00:00:00</td>\n",
       "      <td>Administrative Officer</td>\n",
       "      <td>Financial Services</td>\n",
       "      <td>Mass Customer</td>\n",
       "      <td>N</td>\n",
       "      <td>Yes</td>\n",
       "      <td>16.000000</td>\n",
       "    </tr>\n",
       "    <tr>\n",
       "      <th>2</th>\n",
       "      <td>3</td>\n",
       "      <td>3</td>\n",
       "      <td>Arlin</td>\n",
       "      <td>Dearle</td>\n",
       "      <td>Male</td>\n",
       "      <td>61</td>\n",
       "      <td>1954-01-20 00:00:00</td>\n",
       "      <td>Recruiting Manager</td>\n",
       "      <td>Property</td>\n",
       "      <td>Mass Customer</td>\n",
       "      <td>N</td>\n",
       "      <td>Yes</td>\n",
       "      <td>15.000000</td>\n",
       "    </tr>\n",
       "    <tr>\n",
       "      <th>3</th>\n",
       "      <td>4</td>\n",
       "      <td>4</td>\n",
       "      <td>Talbot</td>\n",
       "      <td>Dearle</td>\n",
       "      <td>Male</td>\n",
       "      <td>33</td>\n",
       "      <td>1961-10-03 00:00:00</td>\n",
       "      <td>Recruiting Manager</td>\n",
       "      <td>IT</td>\n",
       "      <td>Mass Customer</td>\n",
       "      <td>N</td>\n",
       "      <td>No</td>\n",
       "      <td>7.000000</td>\n",
       "    </tr>\n",
       "    <tr>\n",
       "      <th>4</th>\n",
       "      <td>5</td>\n",
       "      <td>5</td>\n",
       "      <td>Sheila-kathryn</td>\n",
       "      <td>Calton</td>\n",
       "      <td>Female</td>\n",
       "      <td>56</td>\n",
       "      <td>1977-05-13 00:00:00</td>\n",
       "      <td>Senior Editor</td>\n",
       "      <td>IT</td>\n",
       "      <td>Affluent Customer</td>\n",
       "      <td>N</td>\n",
       "      <td>Yes</td>\n",
       "      <td>8.000000</td>\n",
       "    </tr>\n",
       "    <tr>\n",
       "      <th>...</th>\n",
       "      <td>...</td>\n",
       "      <td>...</td>\n",
       "      <td>...</td>\n",
       "      <td>...</td>\n",
       "      <td>...</td>\n",
       "      <td>...</td>\n",
       "      <td>...</td>\n",
       "      <td>...</td>\n",
       "      <td>...</td>\n",
       "      <td>...</td>\n",
       "      <td>...</td>\n",
       "      <td>...</td>\n",
       "      <td>...</td>\n",
       "    </tr>\n",
       "    <tr>\n",
       "      <th>3995</th>\n",
       "      <td>3996</td>\n",
       "      <td>3996</td>\n",
       "      <td>Rosalia</td>\n",
       "      <td>Halgarth</td>\n",
       "      <td>Female</td>\n",
       "      <td>8</td>\n",
       "      <td>1975-08-09 00:00:00</td>\n",
       "      <td>VP Product Management</td>\n",
       "      <td>Health</td>\n",
       "      <td>Mass Customer</td>\n",
       "      <td>N</td>\n",
       "      <td>No</td>\n",
       "      <td>19.000000</td>\n",
       "    </tr>\n",
       "    <tr>\n",
       "      <th>3996</th>\n",
       "      <td>3997</td>\n",
       "      <td>3997</td>\n",
       "      <td>Blanch</td>\n",
       "      <td>Nisuis</td>\n",
       "      <td>Female</td>\n",
       "      <td>87</td>\n",
       "      <td>2001-07-13 00:00:00</td>\n",
       "      <td>Statistician II</td>\n",
       "      <td>Manufacturing</td>\n",
       "      <td>High Net Worth</td>\n",
       "      <td>N</td>\n",
       "      <td>Yes</td>\n",
       "      <td>1.000000</td>\n",
       "    </tr>\n",
       "    <tr>\n",
       "      <th>3997</th>\n",
       "      <td>3998</td>\n",
       "      <td>3998</td>\n",
       "      <td>Sarene</td>\n",
       "      <td>Woolley</td>\n",
       "      <td>U</td>\n",
       "      <td>60</td>\n",
       "      <td>2001-07-13 00:00:00</td>\n",
       "      <td>Assistant Manager</td>\n",
       "      <td>IT</td>\n",
       "      <td>High Net Worth</td>\n",
       "      <td>N</td>\n",
       "      <td>No</td>\n",
       "      <td>10.657041</td>\n",
       "    </tr>\n",
       "    <tr>\n",
       "      <th>3998</th>\n",
       "      <td>3999</td>\n",
       "      <td>3999</td>\n",
       "      <td>Patrizius</td>\n",
       "      <td>Woolley</td>\n",
       "      <td>Male</td>\n",
       "      <td>11</td>\n",
       "      <td>1973-10-24 00:00:00</td>\n",
       "      <td>Assistant Manager</td>\n",
       "      <td>Manufacturing</td>\n",
       "      <td>Affluent Customer</td>\n",
       "      <td>N</td>\n",
       "      <td>Yes</td>\n",
       "      <td>10.000000</td>\n",
       "    </tr>\n",
       "    <tr>\n",
       "      <th>3999</th>\n",
       "      <td>4000</td>\n",
       "      <td>4000</td>\n",
       "      <td>Kippy</td>\n",
       "      <td>Oldland</td>\n",
       "      <td>Male</td>\n",
       "      <td>76</td>\n",
       "      <td>1991-11-05 00:00:00</td>\n",
       "      <td>Software Engineer IV</td>\n",
       "      <td>Manufacturing</td>\n",
       "      <td>Affluent Customer</td>\n",
       "      <td>N</td>\n",
       "      <td>No</td>\n",
       "      <td>11.000000</td>\n",
       "    </tr>\n",
       "  </tbody>\n",
       "</table>\n",
       "<p>4000 rows × 13 columns</p>\n",
       "</div>"
      ],
      "text/plain": [
       "      Unnamed: 0  customer_id      first_name  last_name  gender  \\\n",
       "0              1            1         Laraine  Medendorp       F   \n",
       "1              2            2             Eli    Bockman    Male   \n",
       "2              3            3           Arlin     Dearle    Male   \n",
       "3              4            4          Talbot     Dearle    Male   \n",
       "4              5            5  Sheila-kathryn     Calton  Female   \n",
       "...          ...          ...             ...        ...     ...   \n",
       "3995        3996         3996         Rosalia   Halgarth  Female   \n",
       "3996        3997         3997          Blanch     Nisuis  Female   \n",
       "3997        3998         3998          Sarene    Woolley       U   \n",
       "3998        3999         3999       Patrizius    Woolley    Male   \n",
       "3999        4000         4000           Kippy    Oldland    Male   \n",
       "\n",
       "      past_3_years_bike_related_purchases                  DOB  \\\n",
       "0                                      93  1953-10-12 00:00:00   \n",
       "1                                      81  1980-12-16 00:00:00   \n",
       "2                                      61  1954-01-20 00:00:00   \n",
       "3                                      33  1961-10-03 00:00:00   \n",
       "4                                      56  1977-05-13 00:00:00   \n",
       "...                                   ...                  ...   \n",
       "3995                                    8  1975-08-09 00:00:00   \n",
       "3996                                   87  2001-07-13 00:00:00   \n",
       "3997                                   60  2001-07-13 00:00:00   \n",
       "3998                                   11  1973-10-24 00:00:00   \n",
       "3999                                   76  1991-11-05 00:00:00   \n",
       "\n",
       "                   job_title job_industry_category     wealth_segment  \\\n",
       "0        Executive Secretary                Health      Mass Customer   \n",
       "1     Administrative Officer    Financial Services      Mass Customer   \n",
       "2         Recruiting Manager              Property      Mass Customer   \n",
       "3         Recruiting Manager                    IT      Mass Customer   \n",
       "4              Senior Editor                    IT  Affluent Customer   \n",
       "...                      ...                   ...                ...   \n",
       "3995   VP Product Management                Health      Mass Customer   \n",
       "3996         Statistician II         Manufacturing     High Net Worth   \n",
       "3997       Assistant Manager                    IT     High Net Worth   \n",
       "3998       Assistant Manager         Manufacturing  Affluent Customer   \n",
       "3999    Software Engineer IV         Manufacturing  Affluent Customer   \n",
       "\n",
       "     deceased_indicator owns_car     tenure  \n",
       "0                     N      Yes  11.000000  \n",
       "1                     N      Yes  16.000000  \n",
       "2                     N      Yes  15.000000  \n",
       "3                     N       No   7.000000  \n",
       "4                     N      Yes   8.000000  \n",
       "...                 ...      ...        ...  \n",
       "3995                  N       No  19.000000  \n",
       "3996                  N      Yes   1.000000  \n",
       "3997                  N       No  10.657041  \n",
       "3998                  N      Yes  10.000000  \n",
       "3999                  N       No  11.000000  \n",
       "\n",
       "[4000 rows x 13 columns]"
      ]
     },
     "execution_count": 58,
     "metadata": {},
     "output_type": "execute_result"
    }
   ],
   "source": [
    "dfcd"
   ]
  },
  {
   "cell_type": "code",
   "execution_count": 59,
   "metadata": {},
   "outputs": [
    {
     "data": {
      "text/plain": [
       "Mass Customer        2000\n",
       "High Net Worth       1021\n",
       "Affluent Customer     979\n",
       "Name: wealth_segment, dtype: int64"
      ]
     },
     "execution_count": 59,
     "metadata": {},
     "output_type": "execute_result"
    }
   ],
   "source": [
    "dfcd[\"wealth_segment\"].value_counts()"
   ]
  },
  {
   "cell_type": "code",
   "execution_count": 60,
   "metadata": {},
   "outputs": [
    {
     "data": {
      "text/plain": [
       "Female    2037\n",
       "Male      1872\n",
       "U           88\n",
       "M            1\n",
       "F            1\n",
       "Femal        1\n",
       "Name: gender, dtype: int64"
      ]
     },
     "execution_count": 60,
     "metadata": {},
     "output_type": "execute_result"
    }
   ],
   "source": [
    "dfcd[\"gender\"].value_counts()"
   ]
  },
  {
   "cell_type": "code",
   "execution_count": 61,
   "metadata": {},
   "outputs": [
    {
     "data": {
      "text/plain": [
       "Female    2039\n",
       "Male      1873\n",
       "Other       88\n",
       "Name: gender, dtype: int64"
      ]
     },
     "execution_count": 61,
     "metadata": {},
     "output_type": "execute_result"
    }
   ],
   "source": [
    "dfcd[dfcd[\"gender\"]=='F']=\"Female\"\n",
    "dfcd[dfcd[\"gender\"]=='Femal']=\"Female\"\n",
    "dfcd[dfcd[\"gender\"]=='M']=\"Male\"\n",
    "dfcd[dfcd[\"gender\"]=='U']=\"Other\"\n",
    "dfcd[\"gender\"].value_counts()"
   ]
  },
  {
   "cell_type": "code",
   "execution_count": 62,
   "metadata": {},
   "outputs": [
    {
     "data": {
      "text/plain": [
       "Other                                   88\n",
       "Recruiting Manager                      52\n",
       "Business Systems Development Analyst    51\n",
       "Sales Representative                    46\n",
       "Social Worker                           45\n",
       "                                        ..\n",
       "Staff Accountant I                       4\n",
       "Research Assistant III                   3\n",
       "Female                                   2\n",
       "Male                                     1\n",
       "Developer I                              1\n",
       "Name: job_title, Length: 198, dtype: int64"
      ]
     },
     "execution_count": 62,
     "metadata": {},
     "output_type": "execute_result"
    }
   ],
   "source": [
    "dfcd[\"job_title\"].value_counts()"
   ]
  },
  {
   "cell_type": "code",
   "execution_count": 65,
   "metadata": {},
   "outputs": [],
   "source": [
    "# explore other features"
   ]
  },
  {
   "cell_type": "code",
   "execution_count": null,
   "metadata": {},
   "outputs": [],
   "source": []
  },
  {
   "cell_type": "code",
   "execution_count": null,
   "metadata": {},
   "outputs": [],
   "source": []
  }
 ],
 "metadata": {
  "kernelspec": {
   "display_name": "Python 3",
   "language": "python",
   "name": "python3"
  },
  "language_info": {
   "codemirror_mode": {
    "name": "ipython",
    "version": 3
   },
   "file_extension": ".py",
   "mimetype": "text/x-python",
   "name": "python",
   "nbconvert_exporter": "python",
   "pygments_lexer": "ipython3",
   "version": "3.7.3"
  }
 },
 "nbformat": 4,
 "nbformat_minor": 4
}
