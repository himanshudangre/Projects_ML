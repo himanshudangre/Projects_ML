{
 "cells": [
  {
   "cell_type": "markdown",
   "metadata": {},
   "source": [
    "# EDA "
   ]
  },
  {
   "cell_type": "code",
   "execution_count": 10,
   "metadata": {},
   "outputs": [
    {
     "name": "stderr",
     "output_type": "stream",
     "text": [
      "[nltk_data] Downloading package stopwords to\n",
      "[nltk_data]     C:\\Users\\Lenovo\\AppData\\Roaming\\nltk_data...\n",
      "[nltk_data]   Package stopwords is already up-to-date!\n"
     ]
    }
   ],
   "source": [
    "import numpy as np      \n",
    "import matplotlib.pyplot as plt\n",
    "import pandas as pd\n",
    "import os\n",
    "from sklearn.model_selection import train_test_split\n",
    "os.chdir(\"bbc\")\n",
    "import re\n",
    "import nltk\n",
    "nltk.download('stopwords')\n",
    "from nltk.corpus import stopwords\n",
    "from nltk.stem.porter import PorterStemmer"
   ]
  },
  {
   "cell_type": "code",
   "execution_count": 14,
   "metadata": {},
   "outputs": [],
   "source": [
    "\n",
    "with open(\"data_for_embeddings.txt\") as f:\n",
    "    tempf = f.readlines()   \n",
    "tempf = ' '.join(tempf)                  #tempf is a string holding the text from data_for_embedding_file"
   ]
  },
  {
   "cell_type": "code",
   "execution_count": 15,
   "metadata": {},
   "outputs": [],
   "source": [
    "# https://www.udemy.com/course/machinelearning/\n",
    "def cleaner(str):\n",
    "    review = re.sub('[^a-zA-Z]', ' ',str )   #uppercase to lowercase\n",
    "    review = review.lower()                 \n",
    "    review = review.split()                  #splitting so that stemming can be done\n",
    "    ps = PorterStemmer()                     \n",
    "                                             #remove stopwords and stem remaining ones \n",
    "    review = [ps.stem(word) for word in review if not word in set(stopwords.words('english'))]\n",
    "    review = ' '.join(review)                \n",
    "    str=review\n",
    "    return review"
   ]
  },
  {
   "cell_type": "code",
   "execution_count": 16,
   "metadata": {},
   "outputs": [
    {
     "name": "stdout",
     "output_type": "stream",
     "text": [
      "dollar gain greenspan speech dollar hit highest level euro almost three month feder reserv head said us trade deficit set stabilis alan greenspan highlight us govern willing curb spend rise household save factor may help reduc late trade new york dollar reach euro thursday market concern deficit hit greenback recent month friday feder reserv chairman mr greenspan speech london ahead meet g financ minist sent dollar higher earlier tumbl back wors expect us job data think chairman take much sanguin view current account deficit taken time said robert sinch head currenc strategi bank america new york take longer term view lay set condit current account deficit improv year next worri deficit concern china howev remain china currenc remain peg dollar us currenc sharp fall recent month therefor made chines export price highli competit call shift beij polici fallen deaf ear despit recent comment major chines newspap time ripe loosen peg g meet thought unlik produc meaning movement chines polici meantim us feder reserv decis februari boost interest rate quarter point sixth move mani month open differenti european rate half point window believ could enough keep us asset look attract could help prop dollar recent fall partli result big budget deficit well us yawn current account gap need fund buy us bond asset foreign firm govern white hous announc budget monday mani comment believ deficit remain close half trillion dollar ad sale boost time warner profit quarterli profit us media giant timewarn jump bn three month decemb year earlier firm one biggest investor googl benefit sale high speed internet connect higher advert sale timewarn said fourth quarter sale rose bn bn profit buoy one gain offset profit dip warner bro less user aol time warner said friday own search engin googl internet busi aol mix fortun lost subscrib fourth quarter profit lower preced three quarter howev compani said aol underli profit except item rose back stronger internet advertis revenu hope increas subscrib offer onlin servic free timewarn internet custom tri sign aol exist custom high speed broadband timewarn also restat result follow probe us secur exchang commiss sec close conclud time warner fourth quarter profit slightli better analyst expect film divis saw profit slump help box offic flop alexand catwoman sharp contrast year earlier third final film lord ring trilog boost result full year timewarn post profit bn perform revenu grew bn financi perform strong meet exceed full year object greatli enhanc flexibl chairman chief execut richard parson said timewarn project oper earn growth around also expect higher revenu wider profit margin timewarn restat account part effort resolv inquiri aol us market regul alreadi offer pay settl charg deal review sec compani said unabl estim amount need set asid legal reserv previous set intend adjust way account deal german music publish bertelsmann purchas stake aol europ report advertis revenu book sale stake aol europ loss valu stake court reject bn tobacco case us govern claim accus countri biggest tobacco compani cover effect smoke thrown appeal court demand bn bn file clinton administr reject decis court washington found case could brought feder anti racket law among accus altria group rj reynold tobacco lorillard tobacco liggett group brown williamson case govern claim tobacco firm manipul nicotin level increas addict target teenag multi billion dollar advertis campaign lie danger smoke ignor research contrari prosecutor want cigarett firm surrend bn profit accumul past year impos tougher rule market product court appeal district columbia rule us govern could sue firm legisl drawn counteract mafia infiltr busi tobacco compani deni illeg conspir promot smoke defraud public also say alreadi met mani govern demand landmark bn settlement reach state share tobacco compani close higher rule altria rise reynold show gain ethiopia crop product ethiopia produc million tonn crop higher averag past five year report say crop product total million tonn joint report food agricultur organis world food programm said good rain increas use fertil improv seed contribut rise product nevertheless million ethiopian still need emerg assist report calcul emerg food requir tonn top tonn fortifi blend food veget oil target supplementari food distribut surviv programm children five pregnant lactat women need eastern southern ethiopia prolong drought kill crop drain well last year total tonn food assist need help seven million ethiopian food agricultur organis fao recommend food assist bought local local purchas cereal food assist programm recommend far possibl assist domest market farmer said henri josserand chief fao global inform earli warn system agricultur main econom activ ethiopia repres gross domest product ethiopian depend directli indirectli agricultur yuko unit buyer face loan claim owner embattl russian oil giant yuko ask buyer former product unit pay back loan state own rosneft bought yugansk unit bn sale forc russia part settl bn tax claim yuko yuko owner menatep group say ask rosneft repay loan yugansk secur asset rosneft alreadi face similar repay demand foreign bank legal expert said rosneft purchas yugansk would includ oblig pledg asset rosneft pay real money creditor avoid seizur yugansk asset said moscow base us lawyer jami fireston connect case menatep group manag director tim osborn told reuter news agenc default fight rule law exist intern arbitr claus credit rosneft offici unavail comment compani said intend take action menatep recov tax claim debt owe yugansk yuko file bankruptci protect us court attempt prevent forc sale main product arm sale went ahead decemb yugansk sold littl known shell compani turn bought rosneft yuko claim downfal punish polit ambit founder mikhail khodorkovski vow sue particip sale high fuel price hit ba profit british airway blame high fuel price drop profit report result three month decemb airlin made pre tax profit compar year earlier rod eddington ba chief execut said result respect third quarter fuel cost rose ba profit still better market expect expect rise full year revenu help offset increas price aviat fuel ba last year introduc fuel surcharg passeng octob increas one way long haul flight short haul surcharg rais leg yet aviat analyst mike powel dresdner kleinwort wasserstein say ba estim annual surcharg revenu still way short addit fuel cost predict extra turnov quarter bn benefit rise cargo revenu look ahead full year result march ba warn yield averag revenu per passeng expect declin continu lower price face competit low cost carrier howev said sale would better previous forecast year march total revenu outlook slightli better previou guidanc improv anticip ba chairman martin broughton said ba previous forecast rise full year revenu also report friday passeng number rose januari aviat analyst nick van den brul bnp pariba describ ba latest quarterli result pretti modest quit good revenu side show impact fuel surcharg posit cargo develop howev oper margin cost impact fuel strong said sinc septemb attack unit state ba cut job part major cost cut drive focu remain reduc control cost debt whilst continu invest product mr eddington said exampl taken deliveri six airbu aircraft next month start improv club world flat bed ba share close four penc penc ask jeev tip onlin ad reviv ask jeev becom third lead onlin search firm week thank reviv internet advertis improv fortun firm revenu nearli tripl fourth quarter exceed ask jeev among best known name web rel modest player profit quarter dwarf announc rival googl earlier week quarter yahoo earn tip resurg onlin advertis trend taken hold rel quickli late last year market compani doubleclick one lead provid onlin advertis warn busi would put sale thursday announc sharp turnaround brought unexpect increas profit neither ask jeev doubleclick thrill investor profit news howev case share fell analyst attribut fall excess expect quarter fuell dramat outperform googl tuesday pernod takeov talk lift domecq share uk drink food firm alli domecq risen specul could target takeov franc pernod ricard report wall street journal financi time suggest french spirit firm consid bid yet contact target alli domecq share london rose gmt pernod share pari slip pernod said seek acquisit refus comment specif pernod last major purchas third us giant seagram move propel global top three drink firm two third seagram bought market leader diageo term market valu pernod bn euro bn smaller alli domecq capitalis bn bn bn euro last year pernod tri buy glenmorangi one scotland premier whiski firm lost luxuri good firm lvmh pernod home brand includ chiva regal scotch whiski havana club rum jacob creek wine alli domecq big name includ malibu rum courvoisi brandi stolichnaya vodka ballantin whiski well snack food chain dunkin donut baskin robbin ice cream wsj said two ripe consolid dealt problemat part portfolio pernod reduc debt took fund seagram purchas bn euro alli improv perform fast food chain japan narrowli escap recess japan economi teeter brink technic recess three month septemb figur show revis figur indic growth similar size contract previou quarter annual basi data suggest annual growth suggest much hesit recoveri previous thought common technic definit recess two success quarter neg growth govern keen play worri implic data maintain view japan economi remain minor adjust phase upward climb monitor develop care said economi minist heizo takenaka face strengthen yen make export less competit indic weaken econom condit ahead observ less sanguin paint pictur recoveri much patchier previous thought said paul sheard economist lehman brother tokyo improv job market appar yet feed domest demand privat consumpt third quarter indonesian face fuel price rise indonesia govern confirm consid rais fuel price much million indonesian use kerosen basic cook price heavili subsidis year presid susilo bambang yudhoyono govern said want curb fuel subsidi direct money aid programm poor critic argu cut subsidi hurt poorer famili govern say want help million peopl left homeless indonesia aceh region follow earthquak tsunami disast late decemb indonesia pay subsidi import order stabilis domest fuel price higher oil price forc govern spend hold price spent trillion rupiah bn bn fuel subsidi sum far excess origin project trillion rupiah sinc presid yudhoyono govern came power octob indic intent rais domest fuel price cut subsidi januari march quarter year best time us increas fuel price said sri mulyani indrawati state minist nation develop plan still consid hike suitabl moment sooner better state budget bbc correspond jakarta rachel harvey told world busi report like strong public reaction price rise big question whether go one big short sharp shock rais price whether tri stagger said indonesia previou govern led presid megawati sukarnoputri also attempt cut subsidi forc back face public protest india call fair trade rule india attend g meet seven lead industrialis nation friday unlik cow newcom statu london thursday ahead meet india financ minist lash restrict trade polici g nation object subsidi agricultur make hard develop nation like india compet also call reform unit nation world bank imf palaniappan chidambaram india financ minist argu organis need take account chang world order given india china integr global economi said issu globalis term engag globalis mr chidambaram attend g meet part g group nation account two third world popul confer develop enterpris host uk financ minist gordon brown friday said favour float exchang rate help countri cope econom shock flexibl exchang rate one channel absorb posit neg shock told confer india along china brazil south africa russia invit take part g meet take place london friday saturday china expect face renew pressur abandon fix exchang rate g nation particular us blame surg cheap chines export countri tri use fix exchang rate wish make judgement mr chidambaram said separ imf warn thursday india budget deficit larg would hamper countri econom growth forecast around year march year march indian economi grew job growth still slow us us creat fewer job expect januari fall jobseek push unemploy rate lowest level three year accord labor depart figur us firm ad job januari gain non farm payrol market expect new job nevertheless enough push unemploy rate lowest level sinc septemb job gain mean presid bush celebr albeit fine margin net growth job us economi first term offic presid net fall job last novemb presidenti elect first presid sinc herbert hoover result job creation becam key issu last year elect howev ad decemb januari figur administr first term job record end posit territori labor depart also said revis job gain decemb analyst said growth new job strong could expect given favour econom condit suggest employ continu expand moder pace said rick egelton deputi chief economist bmo financi group get boost employ would got given low valu dollar still rel low interest rate environ economi produc moder satisfi amount job growth said ken mayland presid clearview econom mean limit number new opportun worker peugeot deal boost mitsubishi struggl japanes car maker mitsubishi motor struck deal suppli french car maker peugeot sport util vehicl suv two firm sign memorandum understand say expect seal final agreement spring allianc come badli need boost loss make mitsubishi sever profit warn poor sale suv built japan use peugeot diesel engin sold mainli european market fall sale left mitsubishi motor underus capac product deal peugeot give chanc utilis januari mitsubishi motor issu third profit warn nine month cut sale forecast year march sale slid past year catalys revel compani systemat hide record fault secretli repair vehicl result japanes car maker sought seri financi bailout last month said look bn yen bn bn fresh financi back half compani mitsubishi group us german carmak daimlerchryls sharehold mitsubishi motor decid april pump money deal peugeot celebr mitsubishi newli appoint chief execut takashi nishioka took three top boss stood last month shoulder respons firm troubl mitsubishi motor forecast net loss bn yen current financi year march last month sign product agreement japanes rival nissan motor suppli small car sale japan make car nissan sinc telegraph newspap axe job daili sunday telegraph newspap axe journalist job editori staff telegraph group say cut need fund invest new print facil journalist firm met friday afternoon discuss react surpris announc cut come background fierc competit reader sluggish advertis revenu amid competit onlin advertis nation union journalist call manag recal notic redund midday monday face strike ballot pearson financi time said last week offer voluntari redund report nation union journalist said stood strongli behind journalist rule strike manag torn agre procedur kick staff teeth sack peopl pay print facil said jeremi dear nuj gener secretari nuj offici barri fitzpatrick said compani ignor day consult period requir compani plan redund shown complet disregard consult right member said mr fitzpatrick ad compani plan observ consult procedur two telegraph titl current employ journalist broadsheet newspap especi move tabloid format suffer circul declin hit revenu telegraph announc plan go tabloid although independ time seen circul rise sinc shrink size guardian hedg bet plan larger tabloid format like popular continent europ telegraph group bought barclay twin frederick david last year previous own lord conrad black holling intern brother current mull sale anoth busi retail littlewood telegraph execut murdoch maclennan said two newspap would add eight colour page come month journalist lifeblood newspap maintain qualiti daili telegraph sunday telegraph reader vital said howev action improv product capabl secur titl competit also vital mani newspap invest new print machineri enabl print colour page case colour everi page hope boost colour make public attract advertis reader alik recent month news corp news intern unit publish sun news world guardian media group triniti mirror daili mail gener trust announc substanti invest new print plant air passeng win new eu right air passeng unabl board flight overbook cancel flight delay demand greater compens new eu rule set compens euro euro depend length flight new rule appli schedul charter flight includ budget airlin airlin attack legisl say could forc push price higher cover extra cost european commiss face two legal challeng one european low fare airlin associ elaa intern air transport associ iata attack packag bad piec legisl previous passeng could claim euro euro stop board howev schedul flight oper oblig offer compens case overbook offer compens flight cancel eu decid increas passeng compens bid deter airlin deliber overbook flight overbook often lead bump passeng move later flight happen passeng airlin offer compens addit flight cancel delay two hour fault airlin passeng must paid compens howev airlin offer compens flight cancel delay due extraordinari circumst airlin fear extraordinari circumst may includ bad weather secur alert strike event outsid control eu base airlin oper flight take eu adher new compens regim came forc thursday low cost airlin criticis new compens level argu pay could worth ticket preposter piec legisl among airlin fight ryanair deputi chief execut michael cawley told radio today programm european region airlin associ eraa claim neither airlin consum consult chang andi clark eraa director air transport said ec advic mislead custom lead believ airlin could liabl payout flight delay bad weather ec spokeswoman marja quillinan meiland conced grey area said big airlin make case disput nation enforc bodi would decid whether passeng case said new technolog mean easier airlin take land bad weather ad eraa mr clark also warn airlin would compli new rule extra cost would pass onto passeng reckon go cost european air passeng airlin airlin money paid passeng bn euro bn year load onto european passeng mr clark said basic transfer money passeng whose journey disrupt passeng whose journey disrupt wednesday jacqu barrot vice presid european commiss also commission transport said chang necessari boom air travel need accompani proper protect passeng right concret exampl union benefit peopl daili live ad ec launch inform campaign airport travel agenc inform airlin passeng new right china keep tight rein credit china effort stop economi overh clamp credit continu state media report curb introduc earlier year ward risk rapid expans might lead soar price also fear much stress might place fragil bank system growth china remain breakneck corpor invest grow year breakneck pace econom expans kept growth year rapid tool china manufactur sector mean massiv demand energi one factor kept world oil price sky high year theori govern growth target continu insist overshoot mean hard land shape overbalanc economi low exchang rate china yuan peg rate dollar seem relentless declin mean chines export cheap world market china thu far resist intern pressur break link least shift level peg extent credit control seem take effect industri output grew year octob februari inflat slow although retail sale still boom parmalat boast doubl profit parmalat italian food group centr one europ pain corpor scandal report doubl profit pre tax earn fourth quarter euro period less welcom news firm fine euro violat takeov rule five year ago firm sought bankruptci protect decemb disclos bn euro hole account overal compani debt close bn euro fall slowli brand well known itali oversea continu perform strongli howev bare lost revenu sinc scandal broke crucial factor compani futur legal unwind intens complex financi posit tuesday compani administr turnaround expert enrico bondi su morgan stanley former banker return euro relat bond deal brought number bank mr bondi su mass legal action could bring much bn euro compani also su former auditor financi advisor damag crimin case compani former manag proceed separ india rupe hit five year high india rupe hit five year high standard poor p rais countri foreign currenc rate rupe climb per us dollar thursday close currenc gain almost past three session p rate borrow creditworthi lift india rate one notch bb indian asset seen less gambl cash expect flow market buoy rupe upgrad posit basic peopl use excus come back india said bhanu baweja strategist ub money move india first two three week januari market like korea thailand upgrad lead revers india foreign currenc rate one notch invest grade start bbb increas put level romania egypt el salvador one level russia india widen access telecom india rais limit foreign direct invest telecom compani commun minist dayanidhi maran said need fund fast grow mobil market govern hope increas number mobil user million million need least bn bn invest part come foreign direct invest said mr maran decis rais limit foreign investor face consider opposit communist parti give crucial support coalit head prime minist manmohan singh potenti foreign investor howev need govern approv increas stake beyond mr maran said key posit chief execut chief technolog offic chief financi offic held indian ad analyst investor welcom govern decis posit develop carrier invest commun look take longer term view huge growth indian telecom market said gartner princip analyst kobita desai fdi relax coupl rapid local market growth could realli ignit interest indian telecommun industri ad ernst young sanjay mehta invest bank morgan stanley forecast india mobil market like grow year indian mobil market current domin four compani bharti televentur alli singapor telecom essar link hong kong base hutchison whampoa sterl group tata group call centr user lose patienc custom tri get call centr get impati quicker hang survey suggest past welcom messag caller averag hang second listen can music drop patienc come number call call centr grow rate everi year custom get use idea alway avail societi say cara diemont firm dimens data commiss survey howev call centr also saw sharp increas custom simpli abandon call say record last year autom phone messag system taken equat custom pick way multipl option messag number abandon call even higher sixth caller give rather wait one possibl reason lack patienc ms diemont say fact custom call move use mobil phone surg custom tri get call centr also reflect centr grow rang task call centr may look mortgag agent may also respons credit card insur current account ms diemont say problem occur increas respons go hand hand train survey found dimens data call alarm develop averag induct time call centr worker fell last year day leav agent equip deal custom ms diemont warn scari good bottom line either poor train frustrat call centr worker custom result call centr high churn rate nearli quarter worker throw towel everi year turn forc compani pay train new staff resolut rate number call custom queri resolv mutual satisfact run queri pass second third person specialist manag rate rise still well industri target resolut rate suggest outsourc reloc call centr low cost countri like india south africa blame wrong ms diemont say big differ wait time call resolut call centr base europ north america develop countri around world make call centr perform anywher good manag right process place say howev compani decid offshor oper driven cost consider say save money main consider close domest call centr oper half argu worker countri offer better skill money everybodi believ outsourc offshor solut nearli two third firm poll survey plan offshor call centr give three key reason make move call centr oper part busi core function worri risk go abroad fear damag brand join offshor drive survey conduct sunov behalf dimens data base depth questionnair call centr countri five contin experi call centr happi listen vivaldi greensleev want immedi respons work call centr train prepar job\n"
     ]
    }
   ],
   "source": [
    "tempf=cleaner(tempf)\n",
    "print(tempf)"
   ]
  },
  {
   "cell_type": "code",
   "execution_count": 13,
   "metadata": {},
   "outputs": [],
   "source": [
    "# now opening classify_text in tempf as string\n",
    "with open(\"classify_text.txt\") as f:\n",
    "    tempf = f.readlines()\n",
    "tempf = ' '.join(tempf)\n",
    "tempf=cleaner(tempf)"
   ]
  },
  {
   "cell_type": "code",
   "execution_count": 14,
   "metadata": {
    "scrolled": true
   },
   "outputs": [
    {
     "name": "stdout",
     "output_type": "stream",
     "text": [
      "white collar compani race last return offic googl facebook amazon capit one other extend work home polici septemb sometim far beyond credit jackson gibb david streitfeld david streitfeld may even presid trump said get countri open much corpor america rush return employe campus skyscrap compani race first back last increas number mostli white collar employe recent extend work home polici far beyond shelter place timelin mandat state local author googl facebook employe told thursday could stay home next year capit one inform worker labor day possibl longer amazon say octob nationwid insur move aggress firm shutter five offic around countri employe telecommut perman move reflect realiti one sure coronaviru pandem evolv death viru hot zone like new york citi come new outbreak emerg elsewher almost everi day least new case u bring countri total million even coronaviru longer requir work home like retain signific presenc corpor life affect shape citi commerci real estat industri chang cultur compani year build elabor templ worker mani compani start employe work home march prolong polici safeti measur pragmat approach help worker young children plan difficult summer give manag time reconfigur open offic plan someth safer unlock free articl creat account log compani said anoth reason work home work well work home great thing compani employe want get back car commut two hour lost product said joan burk chief peopl offic docusign san francisco tech compani enabl electron agreement see happen way often futur docusign recent announc septemb return said could easili later california lockdown may governor gavin newsom said coincid tech compani front rank stay home movement softwar promot work distanc tattoo parlor bar hairdress salon need face face interact custom luxuri coronaviru struck percent wage salari employe work home least one day week accord bureau labor statist percent work home full time matter day pandem push telecommut margin mandatori mani part countri latest updat economi tesla plan reopen california factori complianc local health order april job loss highlight depth pandem devast women embrac natur appear lockdown see updat updat h ago live coverag global u new york even state like georgia illinoi roll phase open compani see futur remot work gartner research firm consult said client mostli larg firm littl direct interact public expect mani half employe work home least part time broad shift could major implic traffic congest offic cultur corpor profit smaller firm could draw much larger pool potenti worker live beyond radiu headquart would eras boundari work home risk compani employe loyalti could becom tenuou make retent difficult manag could also becom harder bottom line exert power pull real cost benefit compani period cost matter lot said brian kropp gartner vice presid even employe work remot percent less product compani save percent real estat end higher return\n"
     ]
    }
   ],
   "source": [
    "print(tempf)"
   ]
  },
  {
   "cell_type": "code",
   "execution_count": 15,
   "metadata": {},
   "outputs": [],
   "source": [
    "#Make a folder bbc whuch contains all five sub folders and contains embedding_for_text and classify_text\n",
    "# data_folder = \"bbc\"\n",
    "folders = [\"business\",\"entertainment\",\"politics\",\"sport\",\"tech\"]\n",
    "\n",
    "# os.chdir(data_folder)\n",
    "\n",
    "x = []\n",
    "y = []\n",
    "\n",
    "for i in folders:\n",
    "    files = os.listdir(i)\n",
    "    for text_file in files:\n",
    "        file_path = i + \"/\" +text_file\n",
    "        with open(file_path) as f:\n",
    "            data = f.readlines()\n",
    "        data = ' '.join(data)\n",
    "        x.append(data)\n",
    "        y.append(i)\n",
    "   \n",
    "data = {'news': x, 'type': y}     #Headers  \n",
    "df = pd.DataFrame(data)\n",
    "df.to_csv('dataset.csv', index=False)      "
   ]
  },
  {
   "cell_type": "markdown",
   "metadata": {},
   "source": [
    "#Importing the dataset\n",
    "dataset = pd.read_csv('dataset.csv')"
   ]
  },
  {
   "cell_type": "code",
   "execution_count": 36,
   "metadata": {},
   "outputs": [],
   "source": [
    "#2225\n",
    "corpus = []\n",
    "for i in range(0, 2225):\n",
    "    review = re.sub('[^a-zA-Z]', ' ', dataset['news'][i])\n",
    "    review = review.lower()\n",
    "    review = review.split()\n",
    "    ps = PorterStemmer()\n",
    "    review = [ps.stem(word) for word in review if not word in set(stopwords.words('english'))]\n",
    "    review = ' '.join(review)\n",
    "    corpus.append(review)\n",
    "corpus.append(tempf)             #tempf file i.e, classify_text is append to corpus to ease"
   ]
  },
  {
   "cell_type": "markdown",
   "metadata": {},
   "source": [
    "# Bag of Words model"
   ]
  },
  {
   "cell_type": "code",
   "execution_count": 82,
   "metadata": {},
   "outputs": [
    {
     "name": "stdout",
     "output_type": "stream",
     "text": [
      "2226\n"
     ]
    }
   ],
   "source": [
    "# https://www.udemy.com/course/machinelearning/\n",
    "from sklearn.feature_extraction.text import CountVectorizer\n",
    "cv = CountVectorizer(max_features = 1500)\n",
    "X = cv.fit_transform(corpus).toarray()\n",
    "print(len(X))"
   ]
  },
  {
   "cell_type": "code",
   "execution_count": 83,
   "metadata": {},
   "outputs": [
    {
     "data": {
      "text/plain": [
       "2225"
      ]
     },
     "execution_count": 83,
     "metadata": {},
     "output_type": "execute_result"
    }
   ],
   "source": [
    "y = dataset.iloc[:, 1].values\n",
    "from sklearn import preprocessing\n",
    "le = preprocessing.LabelEncoder()     # y labels were strings so label so encoding was necessary \n",
    "le.fit_transform(y)                   \n",
    "len(y)"
   ]
  },
  {
   "cell_type": "code",
   "execution_count": 84,
   "metadata": {},
   "outputs": [
    {
     "name": "stdout",
     "output_type": "stream",
     "text": [
      "[[49  0  3  0  5]\n",
      " [ 0 30  1  0  2]\n",
      " [ 4  1 42  0  2]\n",
      " [ 1  2  0 47  0]\n",
      " [ 2  1  0  0 31]]\n"
     ]
    }
   ],
   "source": [
    "# https://www.udemy.com/course/machinelearning/\n",
    "# Splitting the dataset into the Training set and Test set\n",
    "from sklearn.model_selection import train_test_split\n",
    "X_train, X_test, y_train, y_test = train_test_split(X[:-1], y, test_size = 0.10, random_state = 0)\n",
    "\n",
    "# Training the Naive Bayes model on the Training set\n",
    "from sklearn.naive_bayes import GaussianNB\n",
    "classifier = GaussianNB()\n",
    "classifier.fit(X_train, y_train)\n",
    "\n",
    "# Predicting the Test set results\n",
    "y_pred = classifier.predict(X_test)\n",
    "\n",
    "# Making the Confusion Matrix\n",
    "from sklearn.metrics import confusion_matrix\n",
    "cm = confusion_matrix(y_test, y_pred)\n",
    "print(cm)"
   ]
  },
  {
   "cell_type": "code",
   "execution_count": 90,
   "metadata": {},
   "outputs": [
    {
     "data": {
      "text/plain": [
       "numpy.ndarray"
      ]
     },
     "execution_count": 90,
     "metadata": {},
     "output_type": "execute_result"
    }
   ],
   "source": [
    "type(X[2225])"
   ]
  },
  {
   "cell_type": "code",
   "execution_count": 92,
   "metadata": {},
   "outputs": [
    {
     "name": "stdout",
     "output_type": "stream",
     "text": [
      "['tech']\n"
     ]
    }
   ],
   "source": [
    "ypre=classifier.predict((X[2225]).reshape(1,-1))\n",
    "print(ypre)"
   ]
  },
  {
   "cell_type": "markdown",
   "metadata": {},
   "source": [
    "# TFIDF MODEL "
   ]
  },
  {
   "cell_type": "code",
   "execution_count": 27,
   "metadata": {},
   "outputs": [],
   "source": [
    "from sklearn.feature_extraction.text import TfidfVectorizer\n",
    "vectorizer = TfidfVectorizer()\n",
    "Xtfid=vectorizer.fit_transform(corpus).toarray()"
   ]
  },
  {
   "cell_type": "code",
   "execution_count": 99,
   "metadata": {},
   "outputs": [
    {
     "data": {
      "text/plain": [
       "2226"
      ]
     },
     "execution_count": 99,
     "metadata": {},
     "output_type": "execute_result"
    }
   ],
   "source": [
    "len(Xtfid)"
   ]
  },
  {
   "cell_type": "code",
   "execution_count": 93,
   "metadata": {},
   "outputs": [
    {
     "name": "stdout",
     "output_type": "stream",
     "text": [
      "[[85  6  6  0  5]\n",
      " [ 2 72  0  0  3]\n",
      " [ 5  1 76  1  1]\n",
      " [ 0  2  1 99  0]\n",
      " [ 1  1  2  0 76]]\n"
     ]
    }
   ],
   "source": [
    "X_train, X_test, y_train, y_test = train_test_split(Xtfid[:-1], y, test_size = 0.20, random_state = 0,stratify=y)\n",
    "\n",
    "# Training the Naive Bayes model on the Training set\n",
    "from sklearn.naive_bayes import GaussianNB\n",
    "classifier = GaussianNB()\n",
    "classifier.fit(X_train, y_train)\n",
    "\n",
    "# Predicting the Test set results\n",
    "y_pred = classifier.predict(X_test)\n",
    "\n",
    "# Making the Confusion Matrix\n",
    "from sklearn.metrics import confusion_matrix\n",
    "cm = confusion_matrix(y_test, y_pred)\n",
    "print(cm)"
   ]
  },
  {
   "cell_type": "code",
   "execution_count": 100,
   "metadata": {},
   "outputs": [
    {
     "name": "stdout",
     "output_type": "stream",
     "text": [
      "['tech']\n"
     ]
    }
   ],
   "source": [
    "y_pre=classifier.predict((Xtfid[2225]).reshape(1,-1))\n",
    "print(y_pre)"
   ]
  },
  {
   "cell_type": "code",
   "execution_count": null,
   "metadata": {},
   "outputs": [],
   "source": [
    "Thus all models predict tech as the data_for_prediction"
   ]
  }
 ],
 "metadata": {
  "kernelspec": {
   "display_name": "Python 3",
   "language": "python",
   "name": "python3"
  },
  "language_info": {
   "codemirror_mode": {
    "name": "ipython",
    "version": 3
   },
   "file_extension": ".py",
   "mimetype": "text/x-python",
   "name": "python",
   "nbconvert_exporter": "python",
   "pygments_lexer": "ipython3",
   "version": "3.7.3"
  }
 },
 "nbformat": 4,
 "nbformat_minor": 4
}
